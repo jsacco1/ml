{
  "nbformat": 4,
  "nbformat_minor": 0,
  "metadata": {
    "colab": {
      "name": "Keras_pima.ipynb",
      "provenance": [],
      "authorship_tag": "ABX9TyOSJCgTVdZZUK2erP/vHdM1",
      "include_colab_link": true
    },
    "kernelspec": {
      "name": "python3",
      "display_name": "Python 3"
    }
  },
  "cells": [
    {
      "cell_type": "markdown",
      "metadata": {
        "id": "view-in-github",
        "colab_type": "text"
      },
      "source": [
        "<a href=\"https://colab.research.google.com/github/jsacco1/ml/blob/master/Keras_pima.ipynb\" target=\"_parent\"><img src=\"https://colab.research.google.com/assets/colab-badge.svg\" alt=\"Open In Colab\"/></a>"
      ]
    },
    {
      "cell_type": "markdown",
      "metadata": {
        "id": "uIJ9qaCaW5q6"
      },
      "source": [
        "Deep Learning with Keras\n",
        "\n",
        "Here we will illustrate a the Keras deep learning library. In this example we will cover the 5 steps that comprise the life cycle of a deep learning model: \n",
        "\n",
        "1) Define\n",
        "2) Compile\n",
        "3) Fit\n",
        "4) Evaluate\n",
        "5) Predict"
      ]
    },
    {
      "cell_type": "code",
      "metadata": {
        "id": "UEfEyZvDXoUF"
      },
      "source": [
        "from keras.models import Sequential\n",
        "from keras.layers import Dense\n",
        "import numpy"
      ],
      "execution_count": 1,
      "outputs": []
    },
    {
      "cell_type": "code",
      "metadata": {
        "id": "DqLglWzTXv1L"
      },
      "source": [
        ""
      ],
      "execution_count": null,
      "outputs": []
    }
  ]
}