{
  "nbformat": 4,
  "nbformat_minor": 0,
  "metadata": {
    "colab": {
      "name": "skin_lesion_classification.ipynb",
      "provenance": [],
      "authorship_tag": "ABX9TyPHtM6qq1qL8oIwZqnC6Dlr",
      "include_colab_link": true
    },
    "kernelspec": {
      "name": "python3",
      "display_name": "Python 3"
    }
  },
  "cells": [
    {
      "cell_type": "markdown",
      "metadata": {
        "id": "view-in-github",
        "colab_type": "text"
      },
      "source": [
        "<a href=\"https://colab.research.google.com/github/jsacco1/ml/blob/master/skin_lesion_classification.ipynb\" target=\"_parent\"><img src=\"https://colab.research.google.com/assets/colab-badge.svg\" alt=\"Open In Colab\"/></a>"
      ]
    },
    {
      "cell_type": "markdown",
      "metadata": {
        "id": "H61vtdDRil-2",
        "colab_type": "text"
      },
      "source": [
        "# Goal:\n",
        "Submit automated predictions of disease classification within dermoscopic images.\n",
        "\n",
        "Possible disease categories are:\n",
        "\n",
        "\n",
        "1. Melanoma\n",
        "2. Melanocytic nevus\n",
        "3. Basal cell carcinoma\n",
        "4. Actinic keratosis / Bowen’s disease (intraepithelial carcinoma)\n",
        "5. Benign keratosis (solar lentigo / seborrheic keratosis / lichen planus-like keratosis)\n",
        "6. Dermatofibroma\n",
        "7. Vascular lesion"
      ]
    },
    {
      "cell_type": "markdown",
      "metadata": {
        "id": "f5F8RjHdi3SO",
        "colab_type": "text"
      },
      "source": [
        "Data\n",
        "Input Data\n",
        "The input data are dermoscopic lesion images in JPEG format.\n",
        "\n",
        "All lesion images are named using the scheme ISIC_.jpg, where  is a 7-digit unique identifier. EXIF tags in the images have been removed; any remaining EXIF tags should not be relied upon to provide accurate metadata.\n",
        "\n",
        "The lesion images come from the HAM10000 Dataset, and were acquired with a variety of dermatoscope types, from all anatomic sites (excluding mucosa and nails), from a historical sample of patients presented for skin cancer screening, from several different institutions. Images were collected with approval of the Ethics Review Committee of University of Queensland (Protocol-No. 2017001223) and Medical University of Vienna (Protocol-No. 1804/2017).\n",
        "\n",
        "The distribution of disease states represent a modified “real world” setting whereby there are more benign lesions than malignant lesions, but an over-representation of malignancies.\n",
        "\n",
        "Response Data\n",
        "The response data are sets of binary classifications for each of the 7 disease states, indicating the diagnosis of each input lesion image.\n",
        "\n",
        "Response data are all encoded within a single CSV file (comma-separated value) file, with each classification response in a row.\n",
        "\n",
        "image: an input image identifier of the form ISIC_\n",
        "\n",
        "\n",
        "1.   image: an input image identifier of the form ISIC_\n",
        "MEL: “Melanoma” diagnosis confidence\n",
        "\n",
        "2.  MEL: “Melanoma” diagnosis confidence\n",
        "3.  NV: “Melanocytic nevus” diagnosis confidence\n",
        "4. BCC: “Basal cell carcinoma” diagnosis confidence\n",
        "5. AKIEC: “Actinic keratosis / Bowen’s disease (intraepithelial carcinoma)” diagnosis confidence\n",
        "6. BKL: “Benign keratosis (solar lentigo / seborrheic keratosis / lichen planus-like keratosis)” diagnosis confidence\n",
        "7. DF: “Dermatofibroma” diagnosis confidence\n",
        "8. VASC: “Vascular lesion” diagnosis confidence"
      ]
    },
    {
      "cell_type": "markdown",
      "metadata": {
        "id": "Ix_CaxdCj5ph",
        "colab_type": "text"
      },
      "source": [
        "Diagnosis confidences are expressed as floating-point values in the closed interval [0.0, 1.0], where 0.5 is used as the binary classification threshold. Note that arbitrary score ranges and thresholds can be converted to the range of 0.0 to 1.0, with a threshold of 0.5, trivially using the following sigmoid conversion:\n",
        "\n",
        "1 / (1 + e^(-(a(x - b))))\n",
        "where x is the original score, b is the binary threshold, and a is a scaling parameter (i.e. the inverse measured standard deviation on a held-out dataset). Predicted responses should set the binary threshold b to a value where the classification system is expected to achieve 89% sensitivity, although this is not required.\n",
        "\n",
        "Predicted diagnosis confidence values may vary independently, though exactly one disease state is actually present in each input lesion image.\n",
        "\n",
        "Ground Truth Provenance\n",
        "\n",
        "> As detailed in the HAM10000 Dataset description, diagnosis ground truth (provided for training and used internally for scoring validation and test phases) were established by one of the following methods:\n",
        "\n",
        "\n",
        "\n",
        "1.   Histopathology\n",
        "2.   Reflectance confocal microscopy\n",
        "3.   Lesion did not change during digital dermatoscopic follow up over two years with at least three images\n",
        "4.   Consensus of at least three expert dermatologists from a single image\n",
        "\n",
        "In all cases of malignancy, disease diagnoses were histopathologically confirmed."
      ]
    },
    {
      "cell_type": "markdown",
      "metadata": {
        "id": "htRgrPeFkZQ6",
        "colab_type": "text"
      },
      "source": [
        "# Evaluation\n",
        "\n",
        "Goal Metric\n",
        "Predicted responses are scored using a normalized multi-class accuracy metric (balanced across categories). Tied positions will be broken using the area under the receiver operating characteristic curve (AUC) metric.\n",
        "\n",
        "Rationale\n",
        "Clinical application on skin lesion classification has two goals eventually: Giving specific information and treatment options for a lesion, and detecting skin cancer with a reasonable sensitivity and specificity. The first task needs a correct specific diagnosis out of multiple classes, whereas the second demands a binary decision “biopsy” versus “don’t biopsy”. In the former ISIC challenges, focus was on the second task, therefore this year we want to rank for the more ambitious metric of normalized multiclass accuracy, as it is also closer to real evaluation of a dermatologist. This is also important for the extending reader study, where the winning algorithm(s) will be compared to physicians performance in classification of digital images.\n",
        "\n",
        "Other Metrics\n",
        "Participants will be ranked and awards granted based only on the multiclass accuracy metric. However, for scientific completeness, predicted responses will also have the following metrics computed (comparing prediction vs. ground truth) for each image:\n",
        "\n",
        "## Individual Category Metrics\n",
        "1. sensitivity\n",
        "2. specificity\n",
        "3. accuracy\n",
        "4. area under the receiver operating characteristic curve (AUC)\n",
        "5. mean average precision\n",
        "6. F1 score\n",
        "7. AUC integrated between 80% to 100% sensitivity (AUC80) for Melanoma diagnosis only\n",
        "8. positive predictive value (PPV)\n",
        "9. negative predictive value (NPV)\n",
        "\n",
        "## Aggregate Metrics\n",
        "1. average AUC across all diagnoses\n",
        "2. malignant vs. benign diagnoses category AUC"
      ]
    },
    {
      "cell_type": "markdown",
      "metadata": {
        "id": "h8rfUF0wlCbY",
        "colab_type": "text"
      },
      "source": [
        "# Instructions\n",
        "\n",
        "To participate in this task:\n",
        "\n",
        "## 1. Train\n",
        "Download the training input data and training ground truth response data.\n",
        "Develop an algorithm for generating lesion diagnosis classifications in general.\n",
        "## 2. Validate (optional)\n",
        "Download the validation input data.\n",
        "Run your algorithm on the validation Input data to produce validation predicted responses.\n",
        "Submit these validation predicted responses to receive an immediate score. This will provide feedback that your predicted responses have the correct data format and have reasonable performance. You may make unlimited submissions.\n",
        "## 3. Test\n",
        "Download the test input data.\n",
        "Run your algorithm on the test input data to produce test predicted responses.\n",
        "Submit these test predicted responses. You may submit a maximum of 3 separate approaches/algorithms to be evaluated independently. You may make unlimited submissions, but only the most recent submission for each approach will be used for official judging. Use the “brief description of your algorithm’s approach” field on the submission form to distinguish different approaches. Previously submitted approaches are available in the dropdown menu.\n",
        "Submit a manuscript describing your algorithm’s approach."
      ]
    },
    {
      "cell_type": "code",
      "metadata": {
        "id": "JPEwxdB_lMQ4",
        "colab_type": "code",
        "outputId": "69897c34-834a-424a-da6c-2682e94b131c",
        "colab": {
          "base_uri": "https://localhost:8080/",
          "height": 275
        }
      },
      "source": [
        "!pip install PyDrive"
      ],
      "execution_count": 1,
      "outputs": [
        {
          "output_type": "stream",
          "text": [
            "Requirement already satisfied: PyDrive in /usr/local/lib/python3.6/dist-packages (1.3.1)\n",
            "Requirement already satisfied: oauth2client>=4.0.0 in /usr/local/lib/python3.6/dist-packages (from PyDrive) (4.1.3)\n",
            "Requirement already satisfied: google-api-python-client>=1.2 in /usr/local/lib/python3.6/dist-packages (from PyDrive) (1.7.11)\n",
            "Requirement already satisfied: PyYAML>=3.0 in /usr/local/lib/python3.6/dist-packages (from PyDrive) (3.13)\n",
            "Requirement already satisfied: pyasn1>=0.1.7 in /usr/local/lib/python3.6/dist-packages (from oauth2client>=4.0.0->PyDrive) (0.4.8)\n",
            "Requirement already satisfied: six>=1.6.1 in /usr/local/lib/python3.6/dist-packages (from oauth2client>=4.0.0->PyDrive) (1.12.0)\n",
            "Requirement already satisfied: pyasn1-modules>=0.0.5 in /usr/local/lib/python3.6/dist-packages (from oauth2client>=4.0.0->PyDrive) (0.2.8)\n",
            "Requirement already satisfied: httplib2>=0.9.1 in /usr/local/lib/python3.6/dist-packages (from oauth2client>=4.0.0->PyDrive) (0.11.3)\n",
            "Requirement already satisfied: rsa>=3.1.4 in /usr/local/lib/python3.6/dist-packages (from oauth2client>=4.0.0->PyDrive) (3.4.2)\n",
            "Requirement already satisfied: google-auth-httplib2>=0.0.3 in /usr/local/lib/python3.6/dist-packages (from google-api-python-client>=1.2->PyDrive) (0.0.3)\n",
            "Requirement already satisfied: uritemplate<4dev,>=3.0.0 in /usr/local/lib/python3.6/dist-packages (from google-api-python-client>=1.2->PyDrive) (3.0.1)\n",
            "Requirement already satisfied: google-auth>=1.4.1 in /usr/local/lib/python3.6/dist-packages (from google-api-python-client>=1.2->PyDrive) (1.7.2)\n",
            "Requirement already satisfied: cachetools<3.2,>=2.0.0 in /usr/local/lib/python3.6/dist-packages (from google-auth>=1.4.1->google-api-python-client>=1.2->PyDrive) (3.1.1)\n",
            "Requirement already satisfied: setuptools>=40.3.0 in /usr/local/lib/python3.6/dist-packages (from google-auth>=1.4.1->google-api-python-client>=1.2->PyDrive) (45.2.0)\n"
          ],
          "name": "stdout"
        }
      ]
    },
    {
      "cell_type": "code",
      "metadata": {
        "id": "p2RGLK70l0rm",
        "colab_type": "code",
        "colab": {}
      },
      "source": [
        "import os\n",
        "from pydrive.auth import GoogleAuth\n",
        "from pydrive.drive import GoogleDrive\n",
        "from google.colab import auth\n",
        "from oauth2client.client import GoogleCredentials"
      ],
      "execution_count": 0,
      "outputs": []
    },
    {
      "cell_type": "code",
      "metadata": {
        "id": "78GIdVkMmb2d",
        "colab_type": "code",
        "colab": {}
      },
      "source": [
        "auth.authenticate_user()\n",
        "gauth = GoogleAuth()\n",
        "gauth.credentials = GoogleCredentials.get_application_default()\n",
        "drive = GoogleDrive(gauth)"
      ],
      "execution_count": 0,
      "outputs": []
    },
    {
      "cell_type": "code",
      "metadata": {
        "id": "KZhWINp0md_A",
        "colab_type": "code",
        "colab": {}
      },
      "source": [
        "import boto3"
      ],
      "execution_count": 0,
      "outputs": []
    },
    {
      "cell_type": "code",
      "metadata": {
        "id": "Pk4Ba0VrqP61",
        "colab_type": "code",
        "colab": {}
      },
      "source": [
        "s3 = boto3.client('s3')\n",
        "\n",
        "# then install data from s3 (create IAM role)"
      ],
      "execution_count": 0,
      "outputs": []
    },
    {
      "cell_type": "code",
      "metadata": {
        "id": "FllYNR3IqQa_",
        "colab_type": "code",
        "colab": {
          "base_uri": "https://localhost:8080/",
          "height": 241
        },
        "outputId": "74934d4f-56d8-4ce2-d5bb-b32b940d9ab3"
      },
      "source": [
        " !pip install awscli\n"
      ],
      "execution_count": 6,
      "outputs": [
        {
          "output_type": "stream",
          "text": [
            "Requirement already satisfied: awscli in /usr/local/lib/python3.6/dist-packages (1.18.23)\n",
            "Requirement already satisfied: docutils<0.16,>=0.10 in /usr/local/lib/python3.6/dist-packages (from awscli) (0.15.2)\n",
            "Requirement already satisfied: botocore==1.15.23 in /usr/local/lib/python3.6/dist-packages (from awscli) (1.15.23)\n",
            "Requirement already satisfied: PyYAML<5.4,>=3.10; python_version != \"3.4\" in /usr/local/lib/python3.6/dist-packages (from awscli) (3.13)\n",
            "Requirement already satisfied: rsa<=3.5.0,>=3.1.2 in /usr/local/lib/python3.6/dist-packages (from awscli) (3.4.2)\n",
            "Requirement already satisfied: colorama<0.4.4,>=0.2.5; python_version != \"3.4\" in /usr/local/lib/python3.6/dist-packages (from awscli) (0.4.3)\n",
            "Requirement already satisfied: s3transfer<0.4.0,>=0.3.0 in /usr/local/lib/python3.6/dist-packages (from awscli) (0.3.3)\n",
            "Requirement already satisfied: python-dateutil<3.0.0,>=2.1 in /usr/local/lib/python3.6/dist-packages (from botocore==1.15.23->awscli) (2.8.1)\n",
            "Requirement already satisfied: urllib3<1.26,>=1.20; python_version != \"3.4\" in /usr/local/lib/python3.6/dist-packages (from botocore==1.15.23->awscli) (1.24.3)\n",
            "Requirement already satisfied: jmespath<1.0.0,>=0.7.1 in /usr/local/lib/python3.6/dist-packages (from botocore==1.15.23->awscli) (0.9.5)\n",
            "Requirement already satisfied: pyasn1>=0.1.3 in /usr/local/lib/python3.6/dist-packages (from rsa<=3.5.0,>=3.1.2->awscli) (0.4.8)\n",
            "Requirement already satisfied: six>=1.5 in /usr/local/lib/python3.6/dist-packages (from python-dateutil<3.0.0,>=2.1->botocore==1.15.23->awscli) (1.12.0)\n"
          ],
          "name": "stdout"
        }
      ]
    },
    {
      "cell_type": "code",
      "metadata": {
        "id": "Weso8Xjx2b7R",
        "colab_type": "code",
        "colab": {
          "base_uri": "https://localhost:8080/",
          "height": 54
        },
        "outputId": "9bc4b48c-2a03-4d39-b6ec-de626fa12ab4"
      },
      "source": [
        "from google.colab import drive\n",
        "drive.mount('/content/gdrive')"
      ],
      "execution_count": 7,
      "outputs": [
        {
          "output_type": "stream",
          "text": [
            "Drive already mounted at /content/gdrive; to attempt to forcibly remount, call drive.mount(\"/content/gdrive\", force_remount=True).\n"
          ],
          "name": "stdout"
        }
      ]
    },
    {
      "cell_type": "code",
      "metadata": {
        "id": "7ER_BLAY9rcI",
        "colab_type": "code",
        "colab": {
          "base_uri": "https://localhost:8080/",
          "height": 34
        },
        "outputId": "6a438d39-4648-4cec-97fb-25c2737b73a5"
      },
      "source": [
        "import os\n",
        "os.chdir(\"/content/gdrive/My Drive/deep_learning_challenge\")\n",
        "os.getcwd()"
      ],
      "execution_count": 8,
      "outputs": [
        {
          "output_type": "execute_result",
          "data": {
            "text/plain": [
              "'/content/gdrive/My Drive/deep_learning_challenge'"
            ]
          },
          "metadata": {
            "tags": []
          },
          "execution_count": 8
        }
      ]
    },
    {
      "cell_type": "code",
      "metadata": {
        "id": "hKTCMB_EBIoS",
        "colab_type": "code",
        "colab": {
          "base_uri": "https://localhost:8080/",
          "height": 71
        },
        "outputId": "0a842ca3-0e00-46a7-8be8-422f85faad06"
      },
      "source": [
        "!pip install scipy==1.1.0"
      ],
      "execution_count": 9,
      "outputs": [
        {
          "output_type": "stream",
          "text": [
            "Requirement already satisfied: scipy==1.1.0 in /usr/local/lib/python3.6/dist-packages (1.1.0)\n",
            "Requirement already satisfied: numpy>=1.8.2 in /usr/local/lib/python3.6/dist-packages (from scipy==1.1.0) (1.18.1)\n"
          ],
          "name": "stdout"
        }
      ]
    },
    {
      "cell_type": "code",
      "metadata": {
        "id": "H8l_4VuOA68K",
        "colab_type": "code",
        "colab": {
          "base_uri": "https://localhost:8080/",
          "height": 97
        },
        "outputId": "d0af01f9-1101-4bfa-bd39-82e757f6cc17"
      },
      "source": [
        "# Import libraries\n",
        "from __future__ import print_function, division\n",
        "\n",
        "import numpy as np\n",
        "import random\n",
        "import os\n",
        "import glob\n",
        "import cv2\n",
        "import datetime\n",
        "import pandas as pd\n",
        "import time\n",
        "import h5py\n",
        "import csv\n",
        "\n",
        "from scipy.misc.pilutil import imread, imsave\n",
        "\n",
        "from sklearn.metrics import log_loss, confusion_matrix\n",
        "from sklearn.utils import shuffle\n",
        "from sklearn import model_selection\n",
        "from sklearn.model_selection import train_test_split, KFold\n",
        "from PIL import Image, ImageChops, ImageOps\n",
        "\n",
        "import matplotlib.pyplot as plt\n",
        "import seaborn as sns\n",
        "\n",
        "from keras.models import load_model\n",
        "from keras.callbacks import EarlyStopping, ModelCheckpoint\n",
        "from keras.callbacks import ReduceLROnPlateau\n",
        "from keras.optimizers import RMSprop\n",
        "from keras import backend as K\n",
        "from keras.callbacks import EarlyStopping, Callback\n",
        "from keras.utils import np_utils\n",
        "from keras.preprocessing.image import ImageDataGenerator, load_img, img_to_array\n",
        "from keras import optimizers\n",
        "from keras.models import Sequential, model_from_json\n",
        "from keras.layers import Convolution2D, MaxPooling2D, ZeroPadding2D, Activation, Dropout, Flatten, Dense, BatchNormalization\n",
        "#Importing the Keras libraries and packages\n",
        "from keras.models import Sequential\n",
        "from keras.layers import Conv2D\n",
        "from keras.layers import MaxPooling2D\n",
        "from keras.layers import Flatten\n",
        "from keras.layers import Dense\n",
        "# use ImageDataGenerator to preprocess the data\n",
        "from keras.preprocessing.image import ImageDataGenerator"
      ],
      "execution_count": 10,
      "outputs": [
        {
          "output_type": "stream",
          "text": [
            "Using TensorFlow backend.\n"
          ],
          "name": "stderr"
        },
        {
          "output_type": "display_data",
          "data": {
            "text/html": [
              "<p style=\"color: red;\">\n",
              "The default version of TensorFlow in Colab will soon switch to TensorFlow 2.x.<br>\n",
              "We recommend you <a href=\"https://www.tensorflow.org/guide/migrate\" target=\"_blank\">upgrade</a> now \n",
              "or ensure your notebook will continue to use TensorFlow 1.x via the <code>%tensorflow_version 1.x</code> magic:\n",
              "<a href=\"https://colab.research.google.com/notebooks/tensorflow_version.ipynb\" target=\"_blank\">more info</a>.</p>\n"
            ],
            "text/plain": [
              "<IPython.core.display.HTML object>"
            ]
          },
          "metadata": {
            "tags": []
          }
        }
      ]
    },
    {
      "cell_type": "markdown",
      "metadata": {
        "id": "JfPwKVrbC6Tc",
        "colab_type": "text"
      },
      "source": [
        "Possible disease categories are:\n",
        "\n",
        "\n",
        "1. Melanoma\n",
        "2. Melanocytic nevus\n",
        "3. Basal cell carcinoma\n",
        "4. Actinic keratosis / Bowen’s disease (intraepithelial carcinoma)\n",
        "5. Benign keratosis (solar lentigo / seborrheic keratosis / lichen planus-like keratosis)\n",
        "6. Dermatofibroma\n",
        "7. Vascular lesion"
      ]
    },
    {
      "cell_type": "code",
      "metadata": {
        "id": "2S_uIbUnBNdj",
        "colab_type": "code",
        "colab": {}
      },
      "source": [
        "path = \"/content/gdrive/My Drive/deep_learning_challenge/ISIC2018_Task3_Training_Input\"\n",
        "files = os.listdir(path)\n"
      ],
      "execution_count": 0,
      "outputs": []
    },
    {
      "cell_type": "code",
      "metadata": {
        "id": "fDGyKEX7D7w_",
        "colab_type": "code",
        "colab": {}
      },
      "source": [
        ""
      ],
      "execution_count": 0,
      "outputs": []
    }
  ]
}