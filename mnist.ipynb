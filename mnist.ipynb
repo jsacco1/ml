{
  "nbformat": 4,
  "nbformat_minor": 0,
  "metadata": {
    "colab": {
      "name": "mnist.ipynb",
      "provenance": [],
      "collapsed_sections": [],
      "authorship_tag": "ABX9TyMquiNx6wUIQKaYKo6mxDwp",
      "include_colab_link": true
    },
    "kernelspec": {
      "name": "python3",
      "display_name": "Python 3"
    }
  },
  "cells": [
    {
      "cell_type": "markdown",
      "metadata": {
        "id": "view-in-github",
        "colab_type": "text"
      },
      "source": [
        "<a href=\"https://colab.research.google.com/github/jsacco1/ml/blob/master/mnist.ipynb\" target=\"_parent\"><img src=\"https://colab.research.google.com/assets/colab-badge.svg\" alt=\"Open In Colab\"/></a>"
      ]
    },
    {
      "cell_type": "markdown",
      "metadata": {
        "id": "V76l-qQyCn0O",
        "colab_type": "text"
      },
      "source": [
        "# Test the Keras TensorFlow API on the MNIST dataset.\n",
        "\n",
        "Rationale: \n",
        "Computer vision has much potential for application in clinical imagining, especially with regards to digital pathology and radiology images. Here we will build a neural network to classify digit images of handwritten digits.\n"
      ]
    },
    {
      "cell_type": "code",
      "metadata": {
        "id": "akRVADQaKIus",
        "colab_type": "code",
        "colab": {
          "base_uri": "https://localhost:8080/",
          "height": 80
        },
        "outputId": "9df06e5f-f82c-411b-f8ed-fc5d541a46fd"
      },
      "source": [
        "# import tensorflow and keras\n",
        "import tensorflow as tf #upgrade to tf2.0\n",
        "print(tf.__version__)\n",
        "\n",
        "from tensorflow import keras"
      ],
      "execution_count": 2,
      "outputs": [
        {
          "output_type": "display_data",
          "data": {
            "text/html": [
              "<p style=\"color: red;\">\n",
              "The default version of TensorFlow in Colab will soon switch to TensorFlow 2.x.<br>\n",
              "We recommend you <a href=\"https://www.tensorflow.org/guide/migrate\" target=\"_blank\">upgrade</a> now \n",
              "or ensure your notebook will continue to use TensorFlow 1.x via the <code>%tensorflow_version 1.x</code> magic:\n",
              "<a href=\"https://colab.research.google.com/notebooks/tensorflow_version.ipynb\" target=\"_blank\">more info</a>.</p>\n"
            ],
            "text/plain": [
              "<IPython.core.display.HTML object>"
            ]
          },
          "metadata": {
            "tags": []
          }
        },
        {
          "output_type": "stream",
          "text": [
            "1.15.0\n"
          ],
          "name": "stdout"
        }
      ]
    },
    {
      "cell_type": "code",
      "metadata": {
        "id": "lRi5hX1IL8ur",
        "colab_type": "code",
        "colab": {}
      },
      "source": [
        "import pandas as pd\n",
        "import numpy as np\n",
        "import matplotlib.pyplot as plt"
      ],
      "execution_count": 0,
      "outputs": []
    },
    {
      "cell_type": "code",
      "metadata": {
        "id": "opy4NBBiKQzD",
        "colab_type": "code",
        "colab": {}
      },
      "source": [
        "# how to get data with TF2.0\n",
        "# datasets, info = tfds.load(name='mnist', with_info=True, as_supervised=True)\n",
        "# mnist_train, mnist_test = datasets['train'], datasets['test']"
      ],
      "execution_count": 0,
      "outputs": []
    },
    {
      "cell_type": "code",
      "metadata": {
        "id": "k-00YQ_HMMQD",
        "colab_type": "code",
        "colab": {}
      },
      "source": [
        "# load MNIST dataset from Keras\n",
        "mnist = keras.datasets.mnist"
      ],
      "execution_count": 0,
      "outputs": []
    },
    {
      "cell_type": "code",
      "metadata": {
        "id": "c1MAAqjPXZmP",
        "colab_type": "code",
        "outputId": "187e8436-7da4-4cec-fe5c-8e4f380c4a8a",
        "colab": {
          "base_uri": "https://localhost:8080/",
          "height": 51
        }
      },
      "source": [
        "# get training and test data\n",
        "(image_rows, image_cols) = (28, 28)\n",
        "\n",
        "(x_train, y_train), (x_test, y_test) = mnist.load_data()"
      ],
      "execution_count": 5,
      "outputs": [
        {
          "output_type": "stream",
          "text": [
            "Downloading data from https://storage.googleapis.com/tensorflow/tf-keras-datasets/mnist.npz\n",
            "11493376/11490434 [==============================] - 0s 0us/step\n"
          ],
          "name": "stdout"
        }
      ]
    },
    {
      "cell_type": "code",
      "metadata": {
        "id": "B-TGnfbvXvLz",
        "colab_type": "code",
        "outputId": "96bfb3c4-7598-466e-c7e4-e1dc996c3f1c",
        "colab": {
          "base_uri": "https://localhost:8080/",
          "height": 495
        }
      },
      "source": [
        "# plot some examples\n",
        "plt.figure(figsize = (10,10))\n",
        "for i in range(20):\n",
        "  plt.subplot(5,5,i+1)\n",
        "  plt.imshow(x_train[i], cmap=plt.cm.gray)\n",
        "  plt.xlabel(y_test[i])\n",
        "plt.show()"
      ],
      "execution_count": 6,
      "outputs": [
        {
          "output_type": "display_data",
          "data": {
            "image/png": "[encoded data removed]",
            "text/plain": [
              "<Figure size 720x720 with 20 Axes>"
            ]
          },
          "metadata": {
            "tags": []
          }
        }
      ]
    },
    {
      "cell_type": "code",
      "metadata": {
        "id": "FVj0kGDAYOy3",
        "colab_type": "code",
        "colab": {
          "base_uri": "https://localhost:8080/",
          "height": 34
        },
        "outputId": "b7341bbe-90f3-4b3f-bb40-4d4eeb9f483a"
      },
      "source": [
        "# take a look at the dimensions of the training data\n",
        "x_train.shape # 60000 images of 28x28 pixels"
      ],
      "execution_count": 7,
      "outputs": [
        {
          "output_type": "execute_result",
          "data": {
            "text/plain": [
              "(60000, 28, 28)"
            ]
          },
          "metadata": {
            "tags": []
          },
          "execution_count": 7
        }
      ]
    },
    {
      "cell_type": "markdown",
      "metadata": {
        "id": "Xp3AaARd9-p-",
        "colab_type": "text"
      },
      "source": [
        "# Reshape and Normalize the Images\n",
        "4-D numpy arrays are needed to be able to use the dataset in Keras. However, as shown above, the array is currently only 3-D.\n",
        "\n",
        "In addition, as this is a neural network, the input data must always be normalized. This is done by dividing the RBG codes by 255 (the maximum RGB code minus the minimum RGB code). \n",
        "\n",
        "The following code performs reshapes and normalizes the data:"
      ]
    },
    {
      "cell_type": "code",
      "metadata": {
        "id": "vpqXFSSJ9gbk",
        "colab_type": "code",
        "colab": {
          "base_uri": "https://localhost:8080/",
          "height": 68
        },
        "outputId": "95b98819-7753-49c2-8ab4-5eb0a5292add"
      },
      "source": [
        "# reshape the array to 4-dims so it can work in Keras API\n",
        "x_train = x_train.reshape(x_train.shape[0], 28, 28, 1)\n",
        "x_test = x_test.reshape(x_test.shape[0], 28, 28, 1)\n",
        "input_shape = (28, 28, 1)\n",
        "\n",
        "# ensure the values are of type float to get decimal points after division\n",
        "x_train = x_train.astype('float32')\n",
        "x_test = x_test.astype('float32')\n",
        "\n",
        "# normalize the RGB codes by dividing it to the max RGB value.\n",
        "x_train /= 255\n",
        "x_test /= 255\n",
        "print('x_train shape:', x_train.shape)\n",
        "print('Number of images in x_train', x_train.shape[0])\n",
        "print('Number of images in x_test', x_test.shape[0])"
      ],
      "execution_count": 8,
      "outputs": [
        {
          "output_type": "stream",
          "text": [
            "x_train shape: (60000, 28, 28, 1)\n",
            "Number of images in x_train 60000\n",
            "Number of images in x_test 10000\n"
          ],
          "name": "stdout"
        }
      ]
    },
    {
      "cell_type": "markdown",
      "metadata": {
        "id": "TcNIJhet_5rO",
        "colab_type": "text"
      },
      "source": [
        "# Build the convolutional neural network (CNN)\n",
        "\n",
        "We will build our model by using high level Keras API which uses either TensorFlow or Theano on the backend. (There are several high level TensorFlow APIs such as Layers, Keras, and Estimators which helps us create neural networks with high level knowledge.) However, this may lead to confusion since they all differ in their implementation structure. Therefore, if you see completely different codes for the same neural network although they all use tensorflow, this is why. \n",
        "\n",
        "I will use the most straightforward API which is Keras. Now, import the Sequential Model from Keras and add Conv2D, MaxPooling, Flatten, Dropout, and Dense layers. Conv2D, maxpooling, and dense layers comprise CNNs. In addition, dropout layers prevent overfitting by disregarding some of the neurons while training. Flatten layers flatten 2D arrays to 1D arrays before building the fully connected layers."
      ]
    },
    {
      "cell_type": "code",
      "metadata": {
        "id": "Ba7YJeY_A90f",
        "colab_type": "code",
        "colab": {
          "base_uri": "https://localhost:8080/",
          "height": 275
        },
        "outputId": "9627705e-dd6d-40d3-a67d-d4d9d4d4c22d"
      },
      "source": [
        "# import the required Keras modules containing model and layers\n",
        "from keras.models import Sequential\n",
        "from keras.layers import Dense, Conv2D, Dropout, Flatten, MaxPooling2D\n",
        "\n",
        "# make a sequential model. add the layers\n",
        "model = Sequential()\n",
        "model.add(Conv2D(28, kernel_size=(3,3), input_shape=input_shape))\n",
        "model.add(MaxPooling2D(pool_size=(2, 2)))\n",
        "model.add(Flatten()) # Flattening the 2D arrays for fully connected layers\n",
        "model.add(Dense(128, activation=tf.nn.relu))\n",
        "model.add(Dropout(0.2))\n",
        "model.add(Dense(10,activation=tf.nn.softmax))"
      ],
      "execution_count": 9,
      "outputs": [
        {
          "output_type": "stream",
          "text": [
            "WARNING:tensorflow:From /usr/local/lib/python3.6/dist-packages/keras/backend/tensorflow_backend.py:66: The name tf.get_default_graph is deprecated. Please use tf.compat.v1.get_default_graph instead.\n",
            "\n",
            "WARNING:tensorflow:From /usr/local/lib/python3.6/dist-packages/keras/backend/tensorflow_backend.py:541: The name tf.placeholder is deprecated. Please use tf.compat.v1.placeholder instead.\n",
            "\n",
            "WARNING:tensorflow:From /usr/local/lib/python3.6/dist-packages/keras/backend/tensorflow_backend.py:4432: The name tf.random_uniform is deprecated. Please use tf.random.uniform instead.\n",
            "\n",
            "WARNING:tensorflow:From /usr/local/lib/python3.6/dist-packages/keras/backend/tensorflow_backend.py:4267: The name tf.nn.max_pool is deprecated. Please use tf.nn.max_pool2d instead.\n",
            "\n",
            "WARNING:tensorflow:From /usr/local/lib/python3.6/dist-packages/keras/backend/tensorflow_backend.py:148: The name tf.placeholder_with_default is deprecated. Please use tf.compat.v1.placeholder_with_default instead.\n",
            "\n",
            "WARNING:tensorflow:From /usr/local/lib/python3.6/dist-packages/keras/backend/tensorflow_backend.py:3733: calling dropout (from tensorflow.python.ops.nn_ops) with keep_prob is deprecated and will be removed in a future version.\n",
            "Instructions for updating:\n",
            "Please use `rate` instead of `keep_prob`. Rate should be set to `rate = 1 - keep_prob`.\n"
          ],
          "name": "stdout"
        },
        {
          "output_type": "stream",
          "text": [
            "Using TensorFlow backend.\n"
          ],
          "name": "stderr"
        }
      ]
    },
    {
      "cell_type": "markdown",
      "metadata": {
        "id": "tgBMdpMoBSJr",
        "colab_type": "text"
      },
      "source": [
        "We may experiment with any number for the first Dense layer; however, the final Dense layer must have 10 neurons since we have 10 number classes (0, 1, 2, …, 9). You may always experiment with kernel size, pool size, activation functions, dropout rate, and number of neurons in the first Dense layer to get a better result."
      ]
    },
    {
      "cell_type": "markdown",
      "metadata": {
        "id": "xTPgG58cB4VF",
        "colab_type": "text"
      },
      "source": [
        "# Compile and Fit the Model\n",
        "With the above code, we created an non-optimized empty CNN. Now set an optimizer with a given loss function which uses a metric. Then, we can fit the model on the training data. Here, we use the Adam optimization algorithm, which is popular for computer vision and natural language processing tasks. (read more about it here: https://machinelearningmastery.com/adam-optimization-algorithm-for-deep-learning/)\n",
        "\n",
        "Use the following code for these tasks:"
      ]
    },
    {
      "cell_type": "code",
      "metadata": {
        "id": "BYzO_1xiCJBM",
        "colab_type": "code",
        "colab": {
          "base_uri": "https://localhost:8080/",
          "height": 785
        },
        "outputId": "074acbcf-2ef7-4195-db3a-7422ca898a23"
      },
      "source": [
        "model.compile(optimizer='adam', \n",
        "              loss='sparse_categorical_crossentropy', \n",
        "              metrics=['accuracy'])\n",
        "model.fit(x=x_train,y=y_train, epochs=10)"
      ],
      "execution_count": 10,
      "outputs": [
        {
          "output_type": "stream",
          "text": [
            "WARNING:tensorflow:From /usr/local/lib/python3.6/dist-packages/keras/optimizers.py:793: The name tf.train.Optimizer is deprecated. Please use tf.compat.v1.train.Optimizer instead.\n",
            "\n",
            "WARNING:tensorflow:From /usr/local/lib/python3.6/dist-packages/keras/backend/tensorflow_backend.py:3622: The name tf.log is deprecated. Please use tf.math.log instead.\n",
            "\n",
            "WARNING:tensorflow:From /usr/local/lib/python3.6/dist-packages/tensorflow_core/python/ops/math_grad.py:1424: where (from tensorflow.python.ops.array_ops) is deprecated and will be removed in a future version.\n",
            "Instructions for updating:\n",
            "Use tf.where in 2.0, which has the same broadcast rule as np.where\n",
            "WARNING:tensorflow:From /usr/local/lib/python3.6/dist-packages/keras/backend/tensorflow_backend.py:1033: The name tf.assign_add is deprecated. Please use tf.compat.v1.assign_add instead.\n",
            "\n",
            "WARNING:tensorflow:From /usr/local/lib/python3.6/dist-packages/keras/backend/tensorflow_backend.py:1020: The name tf.assign is deprecated. Please use tf.compat.v1.assign instead.\n",
            "\n",
            "WARNING:tensorflow:From /usr/local/lib/python3.6/dist-packages/keras/backend/tensorflow_backend.py:3005: The name tf.Session is deprecated. Please use tf.compat.v1.Session instead.\n",
            "\n",
            "Epoch 1/10\n",
            "WARNING:tensorflow:From /usr/local/lib/python3.6/dist-packages/keras/backend/tensorflow_backend.py:190: The name tf.get_default_session is deprecated. Please use tf.compat.v1.get_default_session instead.\n",
            "\n",
            "WARNING:tensorflow:From /usr/local/lib/python3.6/dist-packages/keras/backend/tensorflow_backend.py:197: The name tf.ConfigProto is deprecated. Please use tf.compat.v1.ConfigProto instead.\n",
            "\n",
            "WARNING:tensorflow:From /usr/local/lib/python3.6/dist-packages/keras/backend/tensorflow_backend.py:207: The name tf.global_variables is deprecated. Please use tf.compat.v1.global_variables instead.\n",
            "\n",
            "WARNING:tensorflow:From /usr/local/lib/python3.6/dist-packages/keras/backend/tensorflow_backend.py:216: The name tf.is_variable_initialized is deprecated. Please use tf.compat.v1.is_variable_initialized instead.\n",
            "\n",
            "WARNING:tensorflow:From /usr/local/lib/python3.6/dist-packages/keras/backend/tensorflow_backend.py:223: The name tf.variables_initializer is deprecated. Please use tf.compat.v1.variables_initializer instead.\n",
            "\n",
            "60000/60000 [==============================] - 39s 648us/step - loss: 0.2082 - acc: 0.9374\n",
            "Epoch 2/10\n",
            "60000/60000 [==============================] - 37s 617us/step - loss: 0.0835 - acc: 0.9747\n",
            "Epoch 3/10\n",
            "60000/60000 [==============================] - 38s 631us/step - loss: 0.0595 - acc: 0.9815\n",
            "Epoch 4/10\n",
            "60000/60000 [==============================] - 38s 634us/step - loss: 0.0456 - acc: 0.9854\n",
            "Epoch 5/10\n",
            "60000/60000 [==============================] - 38s 639us/step - loss: 0.0357 - acc: 0.9883\n",
            "Epoch 6/10\n",
            "60000/60000 [==============================] - 38s 633us/step - loss: 0.0290 - acc: 0.9904\n",
            "Epoch 7/10\n",
            "60000/60000 [==============================] - 38s 638us/step - loss: 0.0247 - acc: 0.9919\n",
            "Epoch 8/10\n",
            "60000/60000 [==============================] - 38s 638us/step - loss: 0.0219 - acc: 0.9924\n",
            "Epoch 9/10\n",
            "60000/60000 [==============================] - 38s 638us/step - loss: 0.0201 - acc: 0.9926\n",
            "Epoch 10/10\n",
            "60000/60000 [==============================] - 38s 636us/step - loss: 0.0180 - acc: 0.9939\n"
          ],
          "name": "stdout"
        },
        {
          "output_type": "execute_result",
          "data": {
            "text/plain": [
              "<keras.callbacks.History at 0x7f6519e28f98>"
            ]
          },
          "metadata": {
            "tags": []
          },
          "execution_count": 10
        }
      ]
    },
    {
      "cell_type": "markdown",
      "metadata": {
        "id": "6lQgfKX6CXoc",
        "colab_type": "text"
      },
      "source": [
        "Evaluate the Model\n",
        "Finally, evaluate the trained model with x_test and y_test:"
      ]
    },
    {
      "cell_type": "code",
      "metadata": {
        "id": "qN0_rqF4Cg-3",
        "colab_type": "code",
        "colab": {
          "base_uri": "https://localhost:8080/",
          "height": 51
        },
        "outputId": "4900a092-dd09-47c3-dfcc-4995f25f81ab"
      },
      "source": [
        "model.evaluate(x_test, y_test)"
      ],
      "execution_count": 11,
      "outputs": [
        {
          "output_type": "stream",
          "text": [
            "10000/10000 [==============================] - 2s 193us/step\n"
          ],
          "name": "stdout"
        },
        {
          "output_type": "execute_result",
          "data": {
            "text/plain": [
              "[0.06329724881081893, 0.984]"
            ]
          },
          "metadata": {
            "tags": []
          },
          "execution_count": 11
        }
      ]
    },
    {
      "cell_type": "markdown",
      "metadata": {
        "id": "CHdEWmblD0Nx",
        "colab_type": "text"
      },
      "source": [
        "We achieved 98.4% accuracy with a basic model. However, in many image classification cases (e.g., programming autonomous vehicles), we cannot tolerate even 0.1% error since, to oversimpplify, that might cause 1 accident in 1000 cases. However, for our first model, the result is still pretty good. \n",
        "\n",
        "Make individual predictions with the following code:"
      ]
    },
    {
      "cell_type": "code",
      "metadata": {
        "id": "CG2kOki_EVwh",
        "colab_type": "code",
        "colab": {
          "base_uri": "https://localhost:8080/",
          "height": 282
        },
        "outputId": "9c95e337-6f0d-44bb-c3c7-936daeb34c9b"
      },
      "source": [
        "image_index = 8888\n",
        "plt.imshow(x_test[image_index].reshape(28, 28),cmap='Greys')\n",
        "pred = model.predict(x_test[image_index].reshape(1, image_rows, image_cols, 1))\n",
        "print(pred.argmax())"
      ],
      "execution_count": 15,
      "outputs": [
        {
          "output_type": "stream",
          "text": [
            "6\n"
          ],
          "name": "stdout"
        },
        {
          "output_type": "display_data",
          "data": {
            "image/png": "[encoded data removed]",
            "text/plain": [
              "<Figure size 432x288 with 1 Axes>"
            ]
          },
          "metadata": {
            "tags": []
          }
        }
      ]
    },
    {
      "cell_type": "markdown",
      "metadata": {
        "id": "t-hPaw-oF2lV",
        "colab_type": "text"
      },
      "source": [
        "# Congratulations! \n",
        "You have implemented a CNN on the MNIST dataset that classifies with near-100% accurately."
      ]
    },
    {
      "cell_type": "code",
      "metadata": {
        "id": "YaFUcc0dGFlL",
        "colab_type": "code",
        "colab": {}
      },
      "source": [
        ""
      ],
      "execution_count": 0,
      "outputs": []
    }
  ]
}